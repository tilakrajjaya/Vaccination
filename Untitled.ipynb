{
 "cells": [
  {
   "cell_type": "code",
   "execution_count": 2,
   "id": "d2b56829",
   "metadata": {},
   "outputs": [],
   "source": [
    "import pandas as pd\n",
    "import matplotlib.pyplot as plt\n",
    "import folium\n",
    "from matplotlib.dates import DateFormatter, WeekdayLocator\n",
    "from datetime import timedelta"
   ]
  },
  {
   "cell_type": "code",
   "execution_count": 8,
   "id": "9b299a9a",
   "metadata": {},
   "outputs": [],
   "source": [
    "df = pd.read_csv(\n",
    "    'https://covid.ourworldindata.org/data/owid-covid-data.csv', \n",
    "    usecols=['date', 'iso_code', 'total_vaccinations_per_hundred'], \n",
    "    parse_dates=['date'])"
   ]
  },
  {
   "cell_type": "code",
   "execution_count": 9,
   "id": "c2d9fd09",
   "metadata": {},
   "outputs": [
    {
     "data": {
      "text/html": [
       "<div>\n",
       "<style scoped>\n",
       "    .dataframe tbody tr th:only-of-type {\n",
       "        vertical-align: middle;\n",
       "    }\n",
       "\n",
       "    .dataframe tbody tr th {\n",
       "        vertical-align: top;\n",
       "    }\n",
       "\n",
       "    .dataframe thead th {\n",
       "        text-align: right;\n",
       "    }\n",
       "</style>\n",
       "<table border=\"1\" class=\"dataframe\">\n",
       "  <thead>\n",
       "    <tr style=\"text-align: right;\">\n",
       "      <th></th>\n",
       "      <th>iso_code</th>\n",
       "      <th>date</th>\n",
       "      <th>total_vaccinations_per_hundred</th>\n",
       "    </tr>\n",
       "  </thead>\n",
       "  <tbody>\n",
       "    <tr>\n",
       "      <th>0</th>\n",
       "      <td>AFG</td>\n",
       "      <td>2020-02-24</td>\n",
       "      <td>NaN</td>\n",
       "    </tr>\n",
       "    <tr>\n",
       "      <th>1</th>\n",
       "      <td>AFG</td>\n",
       "      <td>2020-02-25</td>\n",
       "      <td>NaN</td>\n",
       "    </tr>\n",
       "    <tr>\n",
       "      <th>2</th>\n",
       "      <td>AFG</td>\n",
       "      <td>2020-02-26</td>\n",
       "      <td>NaN</td>\n",
       "    </tr>\n",
       "    <tr>\n",
       "      <th>3</th>\n",
       "      <td>AFG</td>\n",
       "      <td>2020-02-27</td>\n",
       "      <td>NaN</td>\n",
       "    </tr>\n",
       "    <tr>\n",
       "      <th>4</th>\n",
       "      <td>AFG</td>\n",
       "      <td>2020-02-28</td>\n",
       "      <td>NaN</td>\n",
       "    </tr>\n",
       "  </tbody>\n",
       "</table>\n",
       "</div>"
      ],
      "text/plain": [
       "  iso_code       date  total_vaccinations_per_hundred\n",
       "0      AFG 2020-02-24                             NaN\n",
       "1      AFG 2020-02-25                             NaN\n",
       "2      AFG 2020-02-26                             NaN\n",
       "3      AFG 2020-02-27                             NaN\n",
       "4      AFG 2020-02-28                             NaN"
      ]
     },
     "execution_count": 9,
     "metadata": {},
     "output_type": "execute_result"
    }
   ],
   "source": [
    "df.head()"
   ]
  },
  {
   "cell_type": "code",
   "execution_count": 32,
   "id": "12b39852",
   "metadata": {},
   "outputs": [],
   "source": [
    "td = timedelta(2)\n",
    "m = folium.Map()\n",
    "df['date'] = pd.to_datetime(df['date'])\n",
    "df2 = df[df['date']==max(df['date']) - td]"
   ]
  },
  {
   "cell_type": "code",
   "execution_count": null,
   "id": "f749eb60",
   "metadata": {},
   "outputs": [],
   "source": [
    "\n"
   ]
  },
  {
   "cell_type": "code",
   "execution_count": 35,
   "id": "95399304",
   "metadata": {},
   "outputs": [],
   "source": [
    "country_geo = 'world-countries.json'\n",
    "\n",
    "hist_indicator = 'Number of total vaccinations per hundred'\n",
    "\n",
    "map = folium.Map(location=[100,0], zoom_start=1.5)\n",
    "\n",
    "map.choropleth(geo_data=country_geo, data=df2,\n",
    "                columns=['iso_code', 'total_vaccinations_per_hundred'],\n",
    "                  key_on='feature.id',\n",
    "              fill_color='YlGnBu', fill_opacity=0.7, line_opacity=0.2,\n",
    "              legend_name=hist_indicator)"
   ]
  },
  {
   "cell_type": "code",
   "execution_count": 34,
   "id": "79d1efd4",
   "metadata": {},
   "outputs": [
    {
     "data": {
      "text/html": [
       "<iframe scr=vaccination.html width=700 height=450></iframe>"
      ],
      "text/plain": [
       "<IPython.core.display.HTML object>"
      ]
     },
     "execution_count": 34,
     "metadata": {},
     "output_type": "execute_result"
    }
   ],
   "source": [
    "map.save('vaccination.html')\n",
    "\n",
    "from IPython.display import HTML\n",
    "HTML('<iframe scr=vaccination.html width=700 height=450></iframe>')"
   ]
  },
  {
   "cell_type": "code",
   "execution_count": null,
   "id": "fb964f02",
   "metadata": {},
   "outputs": [],
   "source": []
  }
 ],
 "metadata": {
  "kernelspec": {
   "display_name": "Python 3",
   "language": "python",
   "name": "python3"
  },
  "language_info": {
   "codemirror_mode": {
    "name": "ipython",
    "version": 3
   },
   "file_extension": ".py",
   "mimetype": "text/x-python",
   "name": "python",
   "nbconvert_exporter": "python",
   "pygments_lexer": "ipython3",
   "version": "3.8.8"
  }
 },
 "nbformat": 4,
 "nbformat_minor": 5
}
